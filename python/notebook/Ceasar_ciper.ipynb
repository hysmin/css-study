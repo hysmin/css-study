{
 "cells": [
  {
   "cell_type": "code",
   "execution_count": 21,
   "metadata": {
    "collapsed": false
   },
   "outputs": [],
   "source": [
    "import string\n",
    "from string import ascii_uppercase as up_case\n",
    "from string import ascii_lowercase as lo_case\n",
    "\n",
    "def ceasar(s,k,decode = False):\n",
    "    k1 = k % 26\n",
    "    if decode :\n",
    "        k1 = 26 - k1\n",
    "    return s.translate(\n",
    "        str.maketrans(\n",
    "            up_case + lo_case,\n",
    "            up_case[k1:] + up_case[:k1] + lo_case[k1:] + lo_case[:k1]\n",
    "            )\n",
    "        )\n",
    "\n"
   ]
  },
  {
   "cell_type": "code",
   "execution_count": 24,
   "metadata": {
    "collapsed": false
   },
   "outputs": [
    {
     "name": "stdout",
     "output_type": "stream",
     "text": [
      "Input your magic number: 4\n",
      "Input the message to encrypt: it works!\n",
      "Encrypted message is mx asvow!\n",
      "Original message is it works!\n",
      "If you want to quit, input 'q': \n",
      "Input your magic number: 98\n",
      "Input the message to encrypt: work done\n",
      "Encrypted message is qile xihy\n",
      "Original message is work done\n",
      "If you want to quit, input 'q': q\n"
     ]
    }
   ],
   "source": [
    "while True:\n",
    "    encrypt_key = int(input(\"Input your magic number: \"))\n",
    "    str1 = input(\"Input the message to encrypt: \")\n",
    "    print(\"Encrypted message is \" + ceasar(str1, encrypt_key))\n",
    "    print(\"Original message is \" + ceasar(ceasar(str1, encrypt_key),encrypt_key,True))\n",
    "    if 'q' == input(\"If you want to quit, input 'q': \"):\n",
    "        break\n",
    "          "
   ]
  },
  {
   "cell_type": "code",
   "execution_count": null,
   "metadata": {
    "collapsed": true
   },
   "outputs": [],
   "source": []
  }
 ],
 "metadata": {
  "kernelspec": {
   "display_name": "Python 3",
   "language": "python",
   "name": "python3"
  },
  "language_info": {
   "codemirror_mode": {
    "name": "ipython",
    "version": 3
   },
   "file_extension": ".py",
   "mimetype": "text/x-python",
   "name": "python",
   "nbconvert_exporter": "python",
   "pygments_lexer": "ipython3",
   "version": "3.6.0"
  }
 },
 "nbformat": 4,
 "nbformat_minor": 2
}
