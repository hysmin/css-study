{
 "cells": [
  {
   "cell_type": "code",
   "execution_count": 58,
   "metadata": {
    "collapsed": false,
    "deletable": true,
    "editable": true
   },
   "outputs": [],
   "source": [
    "import string\n",
    "from string import ascii_uppercase as up_case\n",
    "from string import ascii_lowercase as lo_case\n",
    "\n",
    "def ceasar(s,k,decode = False):\n",
    "    k1 = k % 26\n",
    "    if decode :\n",
    "        k1 = 26 - k1\n",
    "    return s.translate(\n",
    "        str.maketrans(\n",
    "            up_case + lo_case,\n",
    "            up_case[k1:] + up_case[:k1] + lo_case[k1:] + lo_case[:k1]\n",
    "            )\n",
    "        )\n",
    "\n"
   ]
  },
  {
   "cell_type": "code",
   "execution_count": 1,
   "metadata": {
    "collapsed": false,
    "deletable": true,
    "editable": true
   },
   "outputs": [],
   "source": [
    "def get_key():\n",
    "    while True:\n",
    "        key = eval(input(\"Input your magic number: \"))\n",
    "        if int == type(key):\n",
    "            return int(key)\n",
    "        else:\n",
    "            print(\"Please input integer as magic number\")"
   ]
  },
  {
   "cell_type": "code",
   "execution_count": null,
   "metadata": {
    "collapsed": false,
    "deletable": true,
    "editable": true,
    "scrolled": true
   },
   "outputs": [
    {
     "name": "stdout",
     "output_type": "stream",
     "text": [
      "Input your magic number: 'fds'\n",
      "Please input integer as magic number\n"
     ]
    }
   ],
   "source": [
    "while True:\n",
    "    encrypt_key = get_key()\n",
    "    str1 = input(\"Input the message to encrypt: \")\n",
    "    print(\"Encrypted message is \" + ceasar(str1, encrypt_key))\n",
    "    print(\"Original message is \" + ceasar(ceasar(str1, encrypt_key),encrypt_key,True))\n",
    "    if 'q' == input(\"If you want to quit, input 'q': \"):\n",
    "        break\n",
    "          "
   ]
  },
  {
   "cell_type": "code",
   "execution_count": 16,
   "metadata": {
    "collapsed": false
   },
   "outputs": [
    {
     "name": "stdout",
     "output_type": "stream",
     "text": [
      "what? js\n",
      "js\n"
     ]
    }
   ],
   "source": [
    "str1 = eval(input(\"what? \"))\n",
    "print(str1)"
   ]
  },
  {
   "cell_type": "code",
   "execution_count": null,
   "metadata": {
    "collapsed": true
   },
   "outputs": [],
   "source": []
  }
 ],
 "metadata": {
  "kernelspec": {
   "display_name": "Python 3",
   "language": "python",
   "name": "python3"
  },
  "language_info": {
   "codemirror_mode": {
    "name": "ipython",
    "version": 3
   },
   "file_extension": ".py",
   "mimetype": "text/x-python",
   "name": "python",
   "nbconvert_exporter": "python",
   "pygments_lexer": "ipython3",
   "version": "3.6.0"
  }
 },
 "nbformat": 4,
 "nbformat_minor": 2
}
