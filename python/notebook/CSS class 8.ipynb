{
 "cells": [
  {
   "cell_type": "code",
   "execution_count": 1,
   "metadata": {
    "collapsed": true,
    "deletable": true,
    "editable": true
   },
   "outputs": [],
   "source": [
    "import pickle"
   ]
  },
  {
   "cell_type": "code",
   "execution_count": 2,
   "metadata": {
    "collapsed": true,
    "deletable": true,
    "editable": true
   },
   "outputs": [],
   "source": [
    "li = [\"iam no other \\n\", \" you are the other\\n\",\"me gone to wild\"]"
   ]
  },
  {
   "cell_type": "code",
   "execution_count": 4,
   "metadata": {
    "collapsed": false,
    "deletable": true,
    "editable": true
   },
   "outputs": [],
   "source": [
    "with open (\"pickle_error_test.txt\",\"wb\") as f:\n",
    "    for s in li :\n",
    "        pickle.dump(s, f)"
   ]
  },
  {
   "cell_type": "code",
   "execution_count": 6,
   "metadata": {
    "collapsed": false,
    "deletable": true,
    "editable": true
   },
   "outputs": [
    {
     "data": {
      "text/plain": [
       "['iam no other \\n', ' you are the other\\n', 'me gone to wild']"
      ]
     },
     "execution_count": 6,
     "metadata": {},
     "output_type": "execute_result"
    }
   ],
   "source": [
    "with open(\"pickle_error_test.txt\",\"rb\") as f2:\n",
    "    string = []\n",
    "    for i in range(3):\n",
    "        string.append(pickle.load(f2))\n",
    "string"
   ]
  },
  {
   "cell_type": "code",
   "execution_count": 7,
   "metadata": {
    "collapsed": true,
    "deletable": true,
    "editable": true
   },
   "outputs": [],
   "source": [
    "# 텍스트일 때는 텍스트 형식으로 인코딩 해서 넣는다.\n",
    "# 위와 같이 스트링을 그대로 저장한 텍스트 파일을 메모장에서 열면 메모장이 읽지를 못함\n",
    "# 인코딩의 차이"
   ]
  },
  {
   "cell_type": "code",
   "execution_count": 9,
   "metadata": {
    "collapsed": false,
    "deletable": true,
    "editable": true
   },
   "outputs": [
    {
     "data": {
      "text/plain": [
       "'가'"
      ]
     },
     "execution_count": 9,
     "metadata": {},
     "output_type": "execute_result"
    }
   ],
   "source": [
    "# ascii -> 7비트로 127가지 기호를 표시함.\n",
    "# UNICODE 모든 인코딩 테이블을 만듬\n",
    "# UNICODE는 7비트로는 안됨. 2byte면 될 것 같다고 정함\n",
    "# UNICODE code 읽는 법.\n",
    "# Unicode는 2byte ascii는 7bit(1byte) Unicode의 0x00**은 ascii code와 동일\n",
    "# Unicode 65,536개도 가득 차서 평면을 늘리기 시작 총 17개의 평면이 있고 가장 기본적인 평면이 0번 평면, BMP이다 (위키 참조)\n",
    "# 참고 - 한국어는 Unicode AC00부터 시작된다.\n",
    "\n",
    "# '\\u' #unicode를 의미하는 prefix\n",
    "'\\uAC00'"
   ]
  },
  {
   "cell_type": "code",
   "execution_count": 10,
   "metadata": {
    "collapsed": false,
    "deletable": true,
    "editable": true
   },
   "outputs": [
    {
     "data": {
      "text/plain": [
       "bytes"
      ]
     },
     "execution_count": 10,
     "metadata": {},
     "output_type": "execute_result"
    }
   ],
   "source": [
    "a = \"abc\".encode()\n",
    "type(a)"
   ]
  },
  {
   "cell_type": "code",
   "execution_count": 12,
   "metadata": {
    "collapsed": false,
    "deletable": true,
    "editable": true
   },
   "outputs": [
    {
     "data": {
      "text/plain": [
       "b'\\xed\\x8c\\x8c\\xec\\x9d\\xb4\\xec\\x84\\xa0'"
      ]
     },
     "execution_count": 12,
     "metadata": {},
     "output_type": "execute_result"
    }
   ],
   "source": [
    "b = \"파이선\".encode()\n",
    "# encode 기본값은 UTF-8\n",
    "b"
   ]
  },
  {
   "cell_type": "code",
   "execution_count": 17,
   "metadata": {
    "collapsed": false,
    "deletable": true,
    "editable": true
   },
   "outputs": [
    {
     "data": {
      "text/plain": [
       "b'\\xff\\xfe\\x0c\\xd3t\\xc7 \\xc1'"
      ]
     },
     "execution_count": 17,
     "metadata": {},
     "output_type": "execute_result"
    }
   ],
   "source": [
    "b = \"파이선\".encode(encoding = \"UTF-16\")\n",
    "# UTF-16은 바이트를 아끼는 것을 볼 수 있다.\n",
    "b"
   ]
  },
  {
   "cell_type": "code",
   "execution_count": 15,
   "metadata": {
    "collapsed": false,
    "deletable": true,
    "editable": true
   },
   "outputs": [
    {
     "data": {
      "text/plain": [
       "'파이선'"
      ]
     },
     "execution_count": 15,
     "metadata": {},
     "output_type": "execute_result"
    }
   ],
   "source": [
    "c = b.decode()\n",
    "c"
   ]
  },
  {
   "cell_type": "code",
   "execution_count": 18,
   "metadata": {
    "collapsed": true,
    "deletable": true,
    "editable": true
   },
   "outputs": [],
   "source": [
    "# UTF-8 : 가변길이 인코딩 시스템 8은 8비트 기반이다.\n",
    "# 유니코드는 2바이트지만, 메모리에 저장하고 통신하기 위해 부호화(encoding)를 할 때 ascii는 1바이트로 저장, 한글등은 3바이트\n",
    "# 4바이트는 기본 평면 이외의 평면일 것이다."
   ]
  },
  {
   "cell_type": "code",
   "execution_count": 19,
   "metadata": {
    "collapsed": true,
    "deletable": true,
    "editable": true
   },
   "outputs": [],
   "source": [
    "# OOP 실습"
   ]
  },
  {
   "cell_type": "code",
   "execution_count": 20,
   "metadata": {
    "collapsed": true,
    "deletable": true,
    "editable": true
   },
   "outputs": [],
   "source": [
    "my_name =\"greg\"\n",
    "your_name = \"matt\"\n",
    "\n",
    "my_age = \"18\"\n",
    "your_age = \"25\"\n",
    "\n",
    "my_money = 5000\n",
    "your_money = 1000"
   ]
  },
  {
   "cell_type": "code",
   "execution_count": null,
   "metadata": {
    "collapsed": true,
    "deletable": true,
    "editable": true
   },
   "outputs": [],
   "source": [
    "# 모아 놓는게 보기가 좋겠는데\n",
    "my_name =\"greg\"\n",
    "my_age = \"18\"\n",
    "my_money = 5000\n",
    "\n",
    "your_name = \"matt\"\n",
    "your_age = \"25\"\n",
    "your_money = 1000"
   ]
  },
  {
   "cell_type": "code",
   "execution_count": 33,
   "metadata": {
    "collapsed": true,
    "deletable": true,
    "editable": true
   },
   "outputs": [],
   "source": [
    "# 위의 정보를 묶기 위해 dictionary로 묶으면 좋을 것 같다!!\n",
    "my_dic = dict(name = \"greg\", age = 18, money = 5000)\n",
    "your_dic = dict(name = \"matt\", age = 25, money = 1000)\n",
    "\n",
    "# 나와 관련된 정보들이 한 곳에 모여있기에 보기도 좋고 이용하기도 좋다."
   ]
  },
  {
   "cell_type": "code",
   "execution_count": 34,
   "metadata": {
    "collapsed": true,
    "deletable": true,
    "editable": true
   },
   "outputs": [],
   "source": [
    "# 내가 하는 행동을 나타내는 함수\n",
    "def give_money(give_dic, receive_dic, money):\n",
    "    give_dic[\"money\"] = give_dic[\"money\"] - money\n",
    "    receive_dic.update({\"money\": receive_dic.get(\"money\") + money})"
   ]
  },
  {
   "cell_type": "code",
   "execution_count": 35,
   "metadata": {
    "collapsed": false,
    "deletable": true,
    "editable": true
   },
   "outputs": [
    {
     "name": "stdout",
     "output_type": "stream",
     "text": [
      "{'name': 'matt', 'age': 25, 'money': 3000}\n"
     ]
    },
    {
     "data": {
      "text/plain": [
       "{'age': 18, 'money': 3000, 'name': 'greg'}"
      ]
     },
     "execution_count": 35,
     "metadata": {},
     "output_type": "execute_result"
    }
   ],
   "source": [
    "give_money(my_dic, your_dic, 2000)\n",
    "print(your_dic)\n",
    "my_dic"
   ]
  },
  {
   "cell_type": "code",
   "execution_count": 36,
   "metadata": {
    "collapsed": false,
    "deletable": true,
    "editable": true
   },
   "outputs": [
    {
     "data": {
      "text/plain": [
       "{'age': 18,\n",
       " 'func_1': <function __main__.give_money>,\n",
       " 'money': 3000,\n",
       " 'name': 'greg'}"
      ]
     },
     "execution_count": 36,
     "metadata": {},
     "output_type": "execute_result"
    }
   ],
   "source": [
    "my_dic['func_1'] = give_money\n",
    "my_dic"
   ]
  },
  {
   "cell_type": "code",
   "execution_count": 37,
   "metadata": {
    "collapsed": true,
    "deletable": true,
    "editable": true
   },
   "outputs": [],
   "source": [
    "my_dic[\"func_1\"](my_dic, your_dic, 2000)"
   ]
  },
  {
   "cell_type": "code",
   "execution_count": 38,
   "metadata": {
    "collapsed": false,
    "deletable": true,
    "editable": true
   },
   "outputs": [
    {
     "name": "stdout",
     "output_type": "stream",
     "text": [
      "{'name': 'greg', 'age': 18, 'money': 1000, 'func_1': <function give_money at 0x7faf685bcea0>}\n"
     ]
    },
    {
     "data": {
      "text/plain": [
       "{'age': 25, 'money': 5000, 'name': 'matt'}"
      ]
     },
     "execution_count": 38,
     "metadata": {},
     "output_type": "execute_result"
    }
   ],
   "source": [
    "print(my_dic)\n",
    "your_dic"
   ]
  },
  {
   "cell_type": "code",
   "execution_count": 40,
   "metadata": {
    "collapsed": false,
    "deletable": true,
    "editable": true
   },
   "outputs": [
    {
     "data": {
      "text/plain": [
       "{'age': 25,\n",
       " 'func_1': <function __main__.give_money>,\n",
       " 'money': 5000,\n",
       " 'name': 'matt'}"
      ]
     },
     "execution_count": 40,
     "metadata": {},
     "output_type": "execute_result"
    }
   ],
   "source": [
    "# 이렇게 연관성이 있는 \"변수\"와 \"함수\"를 한 곳에 모아놓았다.\n",
    "your_dic[\"func_1\"] = give_money\n",
    "your_dic"
   ]
  },
  {
   "cell_type": "code",
   "execution_count": 48,
   "metadata": {
    "collapsed": true,
    "deletable": true,
    "editable": true
   },
   "outputs": [],
   "source": [
    "# 이렇게 된다면, 함수 하나를 만들어서 관련 정보를 모으는 딕셔너리를 만드는 함수 작성하면 좋지 않을까\n",
    "def initi_person_dic(name, age, money, func):\n",
    "    dic = {}\n",
    "    dic[\"name\"] = name\n",
    "    dic[\"age\"] = age\n",
    "    dic[\"money\"] = money\n",
    "    dic[\"func\"] = func\n",
    "    return dic"
   ]
  },
  {
   "cell_type": "code",
   "execution_count": 49,
   "metadata": {
    "collapsed": true,
    "deletable": true,
    "editable": true
   },
   "outputs": [],
   "source": [
    "his_dic = initi_person_dic(\"sam\", 11, 200, give_money)"
   ]
  },
  {
   "cell_type": "code",
   "execution_count": 50,
   "metadata": {
    "collapsed": false,
    "deletable": true,
    "editable": true
   },
   "outputs": [
    {
     "name": "stdout",
     "output_type": "stream",
     "text": [
      "{'name': 'sam', 'age': 11, 'money': 200, 'func': <function give_money at 0x7faf685bcea0>}\n"
     ]
    }
   ],
   "source": [
    "print(his_dic)"
   ]
  },
  {
   "cell_type": "code",
   "execution_count": 51,
   "metadata": {
    "collapsed": true,
    "deletable": true,
    "editable": true
   },
   "outputs": [],
   "source": [
    "# 이런 '틀'을 만들자! -> class"
   ]
  },
  {
   "cell_type": "code",
   "execution_count": 53,
   "metadata": {
    "collapsed": true,
    "deletable": true,
    "editable": true
   },
   "outputs": [],
   "source": [
    "class Person:\n",
    "    def __init__(self, name, age, money = 100000): \n",
    "# 생성자(Constructor) : class 작성 시 무조건 호출함, 초기값 주는 방법 money 인차 참고, 초기값 주고싶은 인자는 오른쪽으로 모아야 한다.\n",
    "# 참고 __xx__ 는 파이선의 예약된 함수 똑같은 이름의 함수 제작 금지\n",
    "        self.name = name\n",
    "        self.age = age\n",
    "        self.money = money\n",
    "    \n",
    "    def __del__(self): # 객체가 메모리에서 지워질 때 반드시 호출됨 (소멸자)\n",
    "        print(\"소멸자 호출\")\n",
    "    \n",
    "    def give_money_class(self, other, money):\n",
    "        self.money -= money\n",
    "        other.money += money"
   ]
  },
  {
   "cell_type": "code",
   "execution_count": 54,
   "metadata": {
    "collapsed": true,
    "deletable": true,
    "editable": true
   },
   "outputs": [],
   "source": [
    "person_1 = Person(\"greg\", 100, 10000000)"
   ]
  },
  {
   "cell_type": "code",
   "execution_count": 55,
   "metadata": {
    "collapsed": false,
    "deletable": true,
    "editable": true
   },
   "outputs": [
    {
     "name": "stdout",
     "output_type": "stream",
     "text": [
      "소멸자 호출\n"
     ]
    }
   ],
   "source": [
    "del person_1"
   ]
  },
  {
   "cell_type": "code",
   "execution_count": 56,
   "metadata": {
    "collapsed": true,
    "deletable": true,
    "editable": true
   },
   "outputs": [],
   "source": [
    "# reference counting (garbage collector)\n",
    "# a = 5 라는 명령이 실행되면 5라는 값(객체)이 어떠한 메모리에 들어가 있고 a는 이 5라는 값을 가르키고 있다. (레퍼런스 카운팅 1)\n",
    "# b = 5 를 추가할 경우 같은 메모리 위치를 b도 가르키게 된다 (레퍼런스 카운팅 2 : 두 개의 참조reference가 5를 가르키고 있음)\n",
    "# b 를 지워도 5라는 값(객체)는 a를 위해 남아있다. (레퍼런스 카운팅 1)\n",
    "# a 를 지우면(레퍼런스 카운팅 0) 메모리에서 값을 지운다. 이것이 "
   ]
  },
  {
   "cell_type": "code",
   "execution_count": 59,
   "metadata": {
    "collapsed": false,
    "deletable": true,
    "editable": true
   },
   "outputs": [
    {
     "data": {
      "text/plain": [
       "9272768"
      ]
     },
     "execution_count": 59,
     "metadata": {},
     "output_type": "execute_result"
    }
   ],
   "source": [
    "a = 5\n",
    "b = 5\n",
    "c = -2\n",
    "id(a)"
   ]
  },
  {
   "cell_type": "code",
   "execution_count": 60,
   "metadata": {
    "collapsed": false,
    "deletable": true,
    "editable": true
   },
   "outputs": [
    {
     "data": {
      "text/plain": [
       "9272768"
      ]
     },
     "execution_count": 60,
     "metadata": {},
     "output_type": "execute_result"
    }
   ],
   "source": [
    "id(b)"
   ]
  },
  {
   "cell_type": "code",
   "execution_count": 61,
   "metadata": {
    "collapsed": false,
    "deletable": true,
    "editable": true
   },
   "outputs": [
    {
     "data": {
      "text/plain": [
       "9272544"
      ]
     },
     "execution_count": 61,
     "metadata": {},
     "output_type": "execute_result"
    }
   ],
   "source": [
    "b = 3-b\n",
    "id(c)"
   ]
  },
  {
   "cell_type": "code",
   "execution_count": 62,
   "metadata": {
    "collapsed": false,
    "deletable": true,
    "editable": true
   },
   "outputs": [
    {
     "data": {
      "text/plain": [
       "9272544"
      ]
     },
     "execution_count": 62,
     "metadata": {},
     "output_type": "execute_result"
    }
   ],
   "source": [
    "id(b)"
   ]
  },
  {
   "cell_type": "code",
   "execution_count": 63,
   "metadata": {
    "collapsed": true,
    "deletable": true,
    "editable": true
   },
   "outputs": [],
   "source": [
    "del a\n",
    "del b\n",
    "del c\n"
   ]
  },
  {
   "cell_type": "code",
   "execution_count": 64,
   "metadata": {
    "collapsed": true,
    "deletable": true,
    "editable": true
   },
   "outputs": [],
   "source": [
    "# symbol table : 변수를 저장해 놓은 공간"
   ]
  },
  {
   "cell_type": "code",
   "execution_count": 70,
   "metadata": {
    "collapsed": true,
    "deletable": true,
    "editable": true
   },
   "outputs": [],
   "source": [
    "# class member : 모든 객체가 공유한다.\n",
    "# instance member : 객체가 공유하지 않는다. 각각 특성값을 가진다.\n",
    "\n",
    "class Point:\n",
    "    a = 10\n",
    "    def __init__(self, _x, _y):\n",
    "        self.x = _x\n",
    "        self.y = _y\n",
    "    \n",
    "    def showInfo(self):\n",
    "        print (\"( {}, {} )\".format(self.x, self.y))"
   ]
  },
  {
   "cell_type": "code",
   "execution_count": 66,
   "metadata": {
    "collapsed": false,
    "deletable": true,
    "editable": true
   },
   "outputs": [
    {
     "name": "stdout",
     "output_type": "stream",
     "text": [
      "( 1, 1 )\n"
     ]
    }
   ],
   "source": [
    "p1 = Point(1, 1)\n",
    "p1.showInfo()"
   ]
  },
  {
   "cell_type": "code",
   "execution_count": 69,
   "metadata": {
    "collapsed": false,
    "deletable": true,
    "editable": true
   },
   "outputs": [
    {
     "name": "stdout",
     "output_type": "stream",
     "text": [
      "{'x': 1, 'y': 1}\n"
     ]
    },
    {
     "data": {
      "text/plain": [
       "{'a': 5, 'x': 1, 'y': 1}"
      ]
     },
     "execution_count": 69,
     "metadata": {},
     "output_type": "execute_result"
    }
   ],
   "source": [
    "print(p1.__dict__)\n",
    "p1.a = 5\n",
    "p1.__dict__"
   ]
  },
  {
   "cell_type": "code",
   "execution_count": 71,
   "metadata": {
    "collapsed": false,
    "deletable": true,
    "editable": true
   },
   "outputs": [
    {
     "data": {
      "text/plain": [
       "mappingproxy({'__dict__': <attribute '__dict__' of 'Point' objects>,\n",
       "              '__doc__': None,\n",
       "              '__init__': <function __main__.Point.__init__>,\n",
       "              '__module__': '__main__',\n",
       "              '__weakref__': <attribute '__weakref__' of 'Point' objects>,\n",
       "              'a': 10,\n",
       "              'showInfo': <function __main__.Point.showInfo>})"
      ]
     },
     "execution_count": 71,
     "metadata": {},
     "output_type": "execute_result"
    }
   ],
   "source": [
    "Point.__dict__"
   ]
  },
  {
   "cell_type": "code",
   "execution_count": 72,
   "metadata": {
    "collapsed": false,
    "deletable": true,
    "editable": true
   },
   "outputs": [
    {
     "data": {
      "text/plain": [
       "mappingproxy({'__dict__': <attribute '__dict__' of 'Point' objects>,\n",
       "              '__doc__': None,\n",
       "              '__init__': <function __main__.Point.__init__>,\n",
       "              '__module__': '__main__',\n",
       "              '__weakref__': <attribute '__weakref__' of 'Point' objects>,\n",
       "              'a': 10,\n",
       "              'b': 50,\n",
       "              'showInfo': <function __main__.Point.showInfo>})"
      ]
     },
     "execution_count": 72,
     "metadata": {},
     "output_type": "execute_result"
    }
   ],
   "source": [
    "Point.b = 50\n",
    "Point.__dict__"
   ]
  },
  {
   "cell_type": "code",
   "execution_count": 75,
   "metadata": {
    "collapsed": false,
    "deletable": true,
    "editable": true
   },
   "outputs": [],
   "source": [
    "a = 10\n",
    "def func1():\n",
    "    b = 5\n",
    "    c = 33\n",
    "    def func2():\n",
    "        global a\n",
    "        a = 40\n",
    "        nonlocal b, c\n",
    "        b = 1000\n",
    "        c = 2000\n",
    "        print(a, b, c)\n",
    "    func2()\n",
    "# nonlocal 범위?"
   ]
  },
  {
   "cell_type": "code",
   "execution_count": 76,
   "metadata": {
    "collapsed": false,
    "deletable": true,
    "editable": true
   },
   "outputs": [
    {
     "name": "stdout",
     "output_type": "stream",
     "text": [
      "40 1000 2000\n"
     ]
    }
   ],
   "source": [
    "func1()"
   ]
  },
  {
   "cell_type": "code",
   "execution_count": 77,
   "metadata": {
    "collapsed": true,
    "deletable": true,
    "editable": true
   },
   "outputs": [],
   "source": [
    "# class member의 참조는 instance를 통해 가능하지만, 변경은 class 를 통해서만 가능하다.\n"
   ]
  },
  {
   "cell_type": "code",
   "execution_count": 78,
   "metadata": {
    "collapsed": true,
    "deletable": true,
    "editable": true
   },
   "outputs": [],
   "source": [
    "class Point :\n",
    "    def __init__(self, _x, _y):\n",
    "        self.x = _x\n",
    "        self.y = _y\n",
    "    \n",
    "    def instance_func(self):\n",
    "        print(\"instance function is called\")\n",
    "    \n",
    "    def __str__(self): #프린트 함수에 class를 넣을 경우 이 부분에서 설정된 스트링을 반환한다.\n",
    "        return \"( {}, {})\".format(self.x, self.y)"
   ]
  },
  {
   "cell_type": "code",
   "execution_count": 79,
   "metadata": {
    "collapsed": true,
    "deletable": true,
    "editable": true
   },
   "outputs": [],
   "source": [
    "p1 = Point(1,1)"
   ]
  },
  {
   "cell_type": "code",
   "execution_count": 80,
   "metadata": {
    "collapsed": false,
    "deletable": true,
    "editable": true
   },
   "outputs": [
    {
     "name": "stdout",
     "output_type": "stream",
     "text": [
      "( 1, 1)\n"
     ]
    }
   ],
   "source": [
    "print(p1)"
   ]
  },
  {
   "cell_type": "code",
   "execution_count": 81,
   "metadata": {
    "collapsed": false,
    "deletable": true,
    "editable": true
   },
   "outputs": [
    {
     "ename": "AttributeError",
     "evalue": "type object 'Point' has no attribute 'instance_func'",
     "output_type": "error",
     "traceback": [
      "\u001b[0;31m---------------------------------------------------------------------------\u001b[0m",
      "\u001b[0;31mAttributeError\u001b[0m                            Traceback (most recent call last)",
      "\u001b[0;32m<ipython-input-81-980bf1188378>\u001b[0m in \u001b[0;36m<module>\u001b[0;34m()\u001b[0m\n\u001b[0;32m----> 1\u001b[0;31m \u001b[0mPoint\u001b[0m\u001b[0;34m.\u001b[0m\u001b[0minstance_func\u001b[0m\u001b[0;34m(\u001b[0m\u001b[0;34m)\u001b[0m\u001b[0;34m\u001b[0m\u001b[0m\n\u001b[0m",
      "\u001b[0;31mAttributeError\u001b[0m: type object 'Point' has no attribute 'instance_func'"
     ]
    }
   ],
   "source": [
    "Point.instance_func()\n",
    "# 실행이 안된다. instance 객체를 넣어줘야 한다."
   ]
  },
  {
   "cell_type": "code",
   "execution_count": 92,
   "metadata": {
    "collapsed": false,
    "deletable": true,
    "editable": true
   },
   "outputs": [
    {
     "name": "stdout",
     "output_type": "stream",
     "text": [
      "instance function is called\n"
     ]
    }
   ],
   "source": [
    "p1 = Point(2, 2)\n",
    "p1.instance_func()\n",
    "#Point.instance_func(p1) 도 사용 가능하나 이건 파이선의 변태성에 의해 가능한 것이다. 쓰지 말 것"
   ]
  },
  {
   "cell_type": "code",
   "execution_count": 87,
   "metadata": {
    "collapsed": true,
    "deletable": true,
    "editable": true
   },
   "outputs": [],
   "source": [
    "# class method도 있다! class 를 통해 접근 가능한 method\n",
    "class Point :\n",
    "    def __init__(self, _x, _y):\n",
    "        self.x = _x\n",
    "        self.y = _y\n",
    "    \n",
    "    @classmethod\n",
    "    def class_method(cls):\n",
    "        print(\"class method is called\")\n",
    "        \n",
    "    def instance_func(self):\n",
    "        print(\"instance function is called\")\n",
    "    \n",
    "    def __str__(self):\n",
    "        return \"( {}, {})\".format(self.x, self.y)\n",
    "    "
   ]
  },
  {
   "cell_type": "code",
   "execution_count": 89,
   "metadata": {
    "collapsed": false,
    "deletable": true,
    "editable": true
   },
   "outputs": [
    {
     "name": "stdout",
     "output_type": "stream",
     "text": [
      "class method is called\n"
     ]
    }
   ],
   "source": [
    "Point.class_method()"
   ]
  },
  {
   "cell_type": "code",
   "execution_count": 93,
   "metadata": {
    "collapsed": true,
    "deletable": true,
    "editable": true
   },
   "outputs": [],
   "source": [
    "# property\n",
    "# 1. decorater 사용\n",
    "#     같은 이름의 함수는 일반적으로 불가능함. C++에서는 반환형이 다르거나 등등 하면 overloadding(같은 공간에 같은 이름의 함수 존재) 이 가능하다\n",
    "#     하지만 property일 경우 가능함\n",
    "# 2. property 라는 함수를 통해 구현 가능"
   ]
  },
  {
   "cell_type": "code",
   "execution_count": 98,
   "metadata": {
    "collapsed": false,
    "deletable": true,
    "editable": true
   },
   "outputs": [],
   "source": [
    "# property란? 객체를 만들고 나서 객체를 통해 호출을 할 때 마치 인스턴스 멤버(변수)인 것 처럼 호출을 하지만 실제로는 메소드가 호출이 됨.\n",
    "class Person:\n",
    "    def __init__(self, money):\n",
    "        self.money = money\n",
    "    \n",
    "    #getter\n",
    "    @property\n",
    "    def money(self): #현재 인스턴스 멤버와 메소드의 이름이 동일하다\n",
    "        print(\"getter called\")\n",
    "        return self.__money\n",
    "    \n",
    "    @money.setter\n",
    "    def money(self, money):\n",
    "        print(\"setter called\")\n",
    "        if money < 0 :\n",
    "            self.__money = 0\n",
    "        else :\n",
    "            self.__money = money\n",
    "        \n",
    "    def __str__(self):\n",
    "        return \"i have {} won\".format(self.__money)\n",
    "    \n",
    "    "
   ]
  },
  {
   "cell_type": "code",
   "execution_count": 101,
   "metadata": {
    "collapsed": false,
    "deletable": true,
    "editable": true
   },
   "outputs": [
    {
     "name": "stdout",
     "output_type": "stream",
     "text": [
      "setter called\n"
     ]
    }
   ],
   "source": [
    "p1 = Person(-3000)"
   ]
  },
  {
   "cell_type": "code",
   "execution_count": 102,
   "metadata": {
    "collapsed": false,
    "deletable": true,
    "editable": true
   },
   "outputs": [
    {
     "name": "stdout",
     "output_type": "stream",
     "text": [
      "i have 0 won\n"
     ]
    }
   ],
   "source": [
    "print(p1)"
   ]
  },
  {
   "cell_type": "code",
   "execution_count": 1,
   "metadata": {
    "collapsed": true,
    "deletable": true,
    "editable": true
   },
   "outputs": [],
   "source": [
    "# property를 왜 사용하는가? 변수값을 변경하며 setter를 불러와서 변수값에 제한을 줄 수 있음\n",
    "# ythwork83@gmail.com"
   ]
  },
  {
   "cell_type": "code",
   "execution_count": 2,
   "metadata": {
    "collapsed": true
   },
   "outputs": [],
   "source": [
    "class pra:\n",
    "    a =10\n",
    "    \n",
    "    @classmethod\n",
    "    def changea(self, a):\n",
    "        pra.a = a\n",
    "        print(pra.a)\n"
   ]
  },
  {
   "cell_type": "code",
   "execution_count": 3,
   "metadata": {
    "collapsed": false
   },
   "outputs": [
    {
     "name": "stdout",
     "output_type": "stream",
     "text": [
      "12\n"
     ]
    }
   ],
   "source": [
    "pra.changea(12)"
   ]
  },
  {
   "cell_type": "code",
   "execution_count": null,
   "metadata": {
    "collapsed": true
   },
   "outputs": [],
   "source": []
  }
 ],
 "metadata": {
  "kernelspec": {
   "display_name": "Python 3",
   "language": "python",
   "name": "python3"
  },
  "language_info": {
   "codemirror_mode": {
    "name": "ipython",
    "version": 3
   },
   "file_extension": ".py",
   "mimetype": "text/x-python",
   "name": "python",
   "nbconvert_exporter": "python",
   "pygments_lexer": "ipython3",
   "version": "3.6.0"
  }
 },
 "nbformat": 4,
 "nbformat_minor": 2
}
