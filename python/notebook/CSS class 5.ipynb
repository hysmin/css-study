{
 "cells": [
  {
   "cell_type": "code",
   "execution_count": 13,
   "metadata": {
    "collapsed": false
   },
   "outputs": [
    {
     "name": "stdout",
     "output_type": "stream",
     "text": [
      "input a: 100\n",
      "input b: 99\n",
      "you\n",
      "you\n",
      "hing\n",
      "you\n",
      "you\n",
      "hing\n",
      "9900\n"
     ]
    }
   ],
   "source": [
    "def Ethiopian_multi(a,b):\n",
    "    c = 0\n",
    "    while True :\n",
    "        if a == 1:\n",
    "            c = c + b\n",
    "            break\n",
    "        elif a % 2 == 0 :\n",
    "            a = a / 2\n",
    "            b = b * 2\n",
    "        else : \n",
    "            a = a // 2\n",
    "            c = c + b\n",
    "            b = b * 2\n",
    "    return c\n",
    "\n",
    "a = int(input(\"input a: \"))\n",
    "b = int(input(\"input b: \"))\n",
    "print(Ethiopian_multi(a,b))"
   ]
  },
  {
   "cell_type": "code",
   "execution_count": 22,
   "metadata": {
    "collapsed": false
   },
   "outputs": [
    {
     "name": "stdout",
     "output_type": "stream",
     "text": [
      "input a: 989\n",
      "input b: 54\n",
      " 494      54 keep   54\n",
      " 247     216 struct\n",
      " 123     216 keep  216\n",
      "  61     432 keep  432\n",
      "  30     864 keep  864\n",
      "  15    3456 struct\n",
      "   7    3456 keep 3456\n",
      "   3    6912 keep 6912\n",
      "   1   13824 keep 13824\n",
      "the result is 53406\n"
     ]
    }
   ],
   "source": [
    "def Ethiopian_multi(a,b):\n",
    "    c = 0\n",
    "    while True :\n",
    "        if a == 1:\n",
    "            c = c + b\n",
    "            break\n",
    "        elif a % 2 == 0 :\n",
    "            a = a / 2\n",
    "            b = b * 2\n",
    "            print (\"%4d %7d struct\" % (a,b))\n",
    "        else : \n",
    "            a = a // 2\n",
    "            c = c + b\n",
    "            print (\"%4d %7d keep %4d\" % (a,b,b))\n",
    "            b = b * 2\n",
    "            \n",
    "    return c\n",
    "\n",
    "a = int(input(\"input a: \"))\n",
    "b = int(input(\"input b: \"))\n",
    "print(\"the result is %d\" % Ethiopian_multi(a,b))"
   ]
  },
  {
   "cell_type": "code",
   "execution_count": 23,
   "metadata": {
    "collapsed": false
   },
   "outputs": [
    {
     "name": "stdout",
     "output_type": "stream",
     "text": [
      "how many times do you want to curse the beast? 55\n",
      "Abradacadabra! (54 times left)\n",
      "Abradacadabra! (53 times left)\n",
      "Abradacadabra! (52 times left)\n",
      "Abradacadabra! (51 times left)\n",
      "Abradacadabra! (50 times left)\n",
      "Abradacadabra! (49 times left)\n",
      "Abradacadabra! (48 times left)\n",
      "Abradacadabra! (47 times left)\n",
      "Abradacadabra! (46 times left)\n",
      "Abradacadabra! (45 times left)\n",
      "Abradacadabra! (44 times left)\n",
      "Abradacadabra! (43 times left)\n",
      "Abradacadabra! (42 times left)\n",
      "Abradacadabra! (41 times left)\n",
      "Abradacadabra! (40 times left)\n",
      "Abradacadabra! (39 times left)\n",
      "Abradacadabra! (38 times left)\n",
      "Abradacadabra! (37 times left)\n",
      "Abradacadabra! (36 times left)\n",
      "Abradacadabra! (35 times left)\n",
      "Abradacadabra! (34 times left)\n",
      "Abradacadabra! (33 times left)\n",
      "Abradacadabra! (32 times left)\n",
      "Abradacadabra! (31 times left)\n",
      "Abradacadabra! (30 times left)\n",
      "Abradacadabra! (29 times left)\n",
      "Abradacadabra! (28 times left)\n",
      "Abradacadabra! (27 times left)\n",
      "Abradacadabra! (26 times left)\n",
      "Abradacadabra! (25 times left)\n",
      "Abradacadabra! (24 times left)\n",
      "Abradacadabra! (23 times left)\n",
      "Abradacadabra! (22 times left)\n",
      "Abradacadabra! (21 times left)\n",
      "Abradacadabra! (20 times left)\n",
      "Abradacadabra! (19 times left)\n",
      "Abradacadabra! (18 times left)\n",
      "Abradacadabra! (17 times left)\n",
      "Abradacadabra! (16 times left)\n",
      "Abradacadabra! (15 times left)\n",
      "Abradacadabra! (14 times left)\n",
      "Abradacadabra! (13 times left)\n",
      "Abradacadabra! (12 times left)\n",
      "Abradacadabra! (11 times left)\n",
      "Abradacadabra! (10 times left)\n",
      "Abradacadabra! (9 times left)\n",
      "Abradacadabra! (8 times left)\n",
      "Abradacadabra! (7 times left)\n",
      "Abradacadabra! (6 times left)\n",
      "Abradacadabra! (5 times left)\n",
      "Abradacadabra! (4 times left)\n",
      "Abradacadabra! (3 times left)\n",
      "Abradacadabra! (2 times left)\n",
      "Abradacadabra! (1 times left)\n",
      "Abradacadabra! (0 times left)\n",
      "curse complete!\n"
     ]
    }
   ],
   "source": [
    "input_no = int(input(\"how many times do you want to curse the beast? \"))\n",
    "\n",
    "def recurse(a):\n",
    "    if a == 0 :\n",
    "        print(\"curse complete!\")\n",
    "    else :\n",
    "        print(\"Abradacadabra! (%d times left)\" % (a - 1))\n",
    "        recurse(a-1)\n",
    "\n",
    "recurse(input_no)"
   ]
  },
  {
   "cell_type": "code",
   "execution_count": 24,
   "metadata": {
    "collapsed": false
   },
   "outputs": [
    {
     "name": "stdout",
     "output_type": "stream",
     "text": [
      "[2, 8, 10, 12, 4, 8, 8]\n"
     ]
    }
   ],
   "source": [
    "# list comprehenshion\n",
    "# 각각의 인자에 적용해야 할 연산자를 적는다 그 뒤에 반복문 조건을 적는다.\n",
    "a_list = [1, 4, 5, 6, 2, 4, 4,]\n",
    "D_list = []\n",
    "D_list = [i * 2 for i in a_list]\n",
    "print(D_list)"
   ]
  },
  {
   "cell_type": "code",
   "execution_count": 25,
   "metadata": {
    "collapsed": false
   },
   "outputs": [
    {
     "name": "stdout",
     "output_type": "stream",
     "text": [
      "[8, 12, 4, 8, 8]\n"
     ]
    }
   ],
   "source": [
    "# list comprehension - if문이 존재할 경우\n",
    "D2_list = []\n",
    "D2_list = [i * 2 for i in a_list if i % 2 ==0]\n",
    "print(D2_list)"
   ]
  },
  {
   "cell_type": "code",
   "execution_count": 31,
   "metadata": {
    "collapsed": false
   },
   "outputs": [],
   "source": [
    "f = open(\"Newfile.txt\", \"w\")\n",
    "for i in range(1,11):\n",
    "    text = \"line %d \\n\" % i\n",
    "    f.write(text)\n",
    "f.close()"
   ]
  },
  {
   "cell_type": "code",
   "execution_count": 36,
   "metadata": {
    "collapsed": false
   },
   "outputs": [
    {
     "name": "stdout",
     "output_type": "stream",
     "text": [
      "line 1 \n",
      "\n",
      "line 2 \n",
      "\n",
      "line 3 \n",
      "\n",
      "line 4 \n",
      "\n",
      "line 5 \n",
      "\n",
      "line 6 \n",
      "\n",
      "line 7 \n",
      "\n",
      "line 8 \n",
      "\n",
      "line 9 \n",
      "\n",
      "line 10 \n",
      "\n"
     ]
    }
   ],
   "source": [
    "f = open(\"Newfile.txt\", \"r\")\n",
    "while True:\n",
    "    text = f.readline()\n",
    "    if not text:\n",
    "        break\n",
    "    print(text)\n",
    "f.close()"
   ]
  },
  {
   "cell_type": "code",
   "execution_count": 38,
   "metadata": {
    "collapsed": false
   },
   "outputs": [
    {
     "name": "stdout",
     "output_type": "stream",
     "text": [
      "['line 1 \\n', 'line 2 \\n', 'line 3 \\n', 'line 4 \\n', 'line 5 \\n', 'line 6 \\n', 'line 7 \\n', 'line 8 \\n', 'line 9 \\n', 'line 10 \\n']\n"
     ]
    }
   ],
   "source": [
    "f = open(\"Newfile.txt\", \"r\")\n",
    "text = f.readlines()\n",
    "\n",
    "print(text)\n",
    "f.close()"
   ]
  },
  {
   "cell_type": "code",
   "execution_count": 40,
   "metadata": {
    "collapsed": true
   },
   "outputs": [],
   "source": [
    "f = open(\"Newfile.txt\", \"a\")\n",
    "for i in range(11,20):\n",
    "    text = (\"New line %d \\n\" % i)\n",
    "    f.write(text)\n",
    "f.close()"
   ]
  },
  {
   "cell_type": "code",
   "execution_count": 41,
   "metadata": {
    "collapsed": true
   },
   "outputs": [],
   "source": [
    "with open(\"foo.txt\", 'w') as f:\n",
    "    f.write(\"foo is text dummy\")"
   ]
  },
  {
   "cell_type": "code",
   "execution_count": 44,
   "metadata": {
    "collapsed": false
   },
   "outputs": [
    {
     "name": "stdout",
     "output_type": "stream",
     "text": [
      "number: ls\n",
      "NUMBER.\n",
      "invalid literal for int() with base 10: 'ls'\n"
     ]
    }
   ],
   "source": [
    "try :\n",
    "    input_int = int(input(\"number: \"))\n",
    "except ValueError as e:\n",
    "    print(\"NUMBER.\")\n",
    "    print(e)"
   ]
  },
  {
   "cell_type": "code",
   "execution_count": null,
   "metadata": {
    "collapsed": true
   },
   "outputs": [],
   "source": []
  }
 ],
 "metadata": {
  "kernelspec": {
   "display_name": "Python 3",
   "language": "python",
   "name": "python3"
  },
  "language_info": {
   "codemirror_mode": {
    "name": "ipython",
    "version": 3
   },
   "file_extension": ".py",
   "mimetype": "text/x-python",
   "name": "python",
   "nbconvert_exporter": "python",
   "pygments_lexer": "ipython3",
   "version": "3.6.0"
  }
 },
 "nbformat": 4,
 "nbformat_minor": 2
}
