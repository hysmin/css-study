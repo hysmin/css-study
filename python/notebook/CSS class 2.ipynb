{
 "cells": [
  {
   "cell_type": "code",
   "execution_count": 1,
   "metadata": {
    "collapsed": true
   },
   "outputs": [],
   "source": [
    "# 반지름(r=10), 원의 지름, 둘레, 넓이, 부피를 구하라"
   ]
  },
  {
   "cell_type": "code",
   "execution_count": 7,
   "metadata": {
    "collapsed": false
   },
   "outputs": [
    {
     "name": "stdout",
     "output_type": "stream",
     "text": [
      "20\n",
      "62.830000000000005\n",
      "314.15000000000003\n",
      "4188.666666666666\n"
     ]
    }
   ],
   "source": [
    "r=10\n",
    "pi=3.1415\n",
    "\n",
    "# 지름 = 반지름*2\n",
    "radius = r * 2\n",
    "print(radius)\n",
    "# 연산자와 object 사이는 한 칸을 띄우는 것이 python의 규칙이다. 안띄워도 계산은 됨\n",
    "\n",
    "# 둘레 = 2 * pi * r\n",
    "d = 2 * pi * r\n",
    "print(d)\n",
    "\n",
    "# 넓이 = pi * r ^ 2\n",
    "area = pi * r * r\n",
    "print(area)\n",
    "\n",
    "# 부피\n",
    "volume = (4/3) * pi * r * r * r\n",
    "print(volume)"
   ]
  },
  {
   "cell_type": "code",
   "execution_count": 10,
   "metadata": {
    "collapsed": false
   },
   "outputs": [
    {
     "name": "stdout",
     "output_type": "stream",
     "text": [
      "['bag', 'father']\n"
     ]
    }
   ],
   "source": [
    "room = ['bag']\n",
    "\n",
    "def comein(where):\n",
    "    where.append('father')\n",
    "    where = ['mother','sister']\n",
    "    \n",
    "comein(room)\n",
    "print(room)\n",
    "# list, dictionary 등 고정된 요소를 집어넣도록 하며,\n",
    "# 메모리 번지가 달라질 수 있는 것을 바로 = 로 넣으면 값이 바뀔지 안바뀔 지 알 수 없음(적용이 되는 경우도 있지만 적용이 안 될 수 있다)"
   ]
  },
  {
   "cell_type": "code",
   "execution_count": 11,
   "metadata": {
    "collapsed": false
   },
   "outputs": [
    {
     "name": "stdout",
     "output_type": "stream",
     "text": [
      "what is your name?none of your business\n",
      "hi! none of your business\n"
     ]
    }
   ],
   "source": [
    "name = input(\"what is your name?\")\n",
    "print(\"hi!\", name)"
   ]
  },
  {
   "cell_type": "code",
   "execution_count": 12,
   "metadata": {
    "collapsed": false
   },
   "outputs": [
    {
     "name": "stdout",
     "output_type": "stream",
     "text": [
      "what is your name?True\n"
     ]
    }
   ],
   "source": [
    "name = eval(input(\"what is your name?\"))"
   ]
  },
  {
   "cell_type": "code",
   "execution_count": 13,
   "metadata": {
    "collapsed": false
   },
   "outputs": [
    {
     "data": {
      "text/plain": [
       "True"
      ]
     },
     "execution_count": 13,
     "metadata": {},
     "output_type": "execute_result"
    }
   ],
   "source": [
    "name"
   ]
  },
  {
   "cell_type": "code",
   "execution_count": 14,
   "metadata": {
    "collapsed": false
   },
   "outputs": [
    {
     "data": {
      "text/plain": [
       "bool"
      ]
     },
     "execution_count": 14,
     "metadata": {},
     "output_type": "execute_result"
    }
   ],
   "source": [
    "type(name)"
   ]
  },
  {
   "cell_type": "code",
   "execution_count": 16,
   "metadata": {
    "collapsed": false
   },
   "outputs": [
    {
     "name": "stdout",
     "output_type": "stream",
     "text": [
      "what is your name?'min'\n"
     ]
    }
   ],
   "source": [
    "name = eval(input(\"what is your name?\"))"
   ]
  },
  {
   "cell_type": "code",
   "execution_count": 17,
   "metadata": {
    "collapsed": false
   },
   "outputs": [
    {
     "name": "stdout",
     "output_type": "stream",
     "text": [
      "what is your name?min\n"
     ]
    }
   ],
   "source": [
    "name = eval(input(\"what is your name?\"))"
   ]
  },
  {
   "cell_type": "code",
   "execution_count": 19,
   "metadata": {
    "collapsed": false
   },
   "outputs": [
    {
     "data": {
      "text/plain": [
       "builtin_function_or_method"
      ]
     },
     "execution_count": 19,
     "metadata": {},
     "output_type": "execute_result"
    }
   ],
   "source": [
    "type(name)\n",
    "# eval 사용시에 문자열은 ''을 붙여야 스트링으로 인식된다."
   ]
  },
  {
   "cell_type": "code",
   "execution_count": 20,
   "metadata": {
    "collapsed": true
   },
   "outputs": [],
   "source": [
    "#유니코드를 사용한다. 아스키는 import 아스키라고 해야함\n",
    "#2버전의 파이선은 input이 다르다. raw_input이라는 기능이 3버전의 input과 동일하며 2버전의 input은 3버전의 eval(input())과 동일하다"
   ]
  },
  {
   "cell_type": "code",
   "execution_count": 22,
   "metadata": {
    "collapsed": false
   },
   "outputs": [
    {
     "name": "stdout",
     "output_type": "stream",
     "text": [
      "<class 'int'>\n"
     ]
    }
   ],
   "source": [
    "name = 1\n",
    "print(type(name))"
   ]
  },
  {
   "cell_type": "code",
   "execution_count": 23,
   "metadata": {
    "collapsed": true
   },
   "outputs": [],
   "source": [
    "# class 라는 위치에, 형태는 int"
   ]
  },
  {
   "cell_type": "code",
   "execution_count": 24,
   "metadata": {
    "collapsed": false
   },
   "outputs": [
    {
     "name": "stdout",
     "output_type": "stream",
     "text": [
      "I have a pen I hane an apple.\n"
     ]
    }
   ],
   "source": [
    "print (\"I have a %s I hane an %s.\"%(\"pen\",\"apple\"))"
   ]
  },
  {
   "cell_type": "code",
   "execution_count": 25,
   "metadata": {
    "collapsed": true
   },
   "outputs": [],
   "source": [
    "# print(\"I have a \" + variable1 + \"I have an \"+ variable2) 으로 입력해도 되지만 위에처럼 하는게 보기가 좋다. 쉽다"
   ]
  },
  {
   "cell_type": "code",
   "execution_count": 26,
   "metadata": {
    "collapsed": true
   },
   "outputs": [],
   "source": [
    "some_string = \"python\""
   ]
  },
  {
   "cell_type": "code",
   "execution_count": 27,
   "metadata": {
    "collapsed": false
   },
   "outputs": [
    {
     "data": {
      "text/plain": [
       "6"
      ]
     },
     "execution_count": 27,
     "metadata": {},
     "output_type": "execute_result"
    }
   ],
   "source": [
    "len(some_string)"
   ]
  },
  {
   "cell_type": "code",
   "execution_count": 29,
   "metadata": {
    "collapsed": false
   },
   "outputs": [
    {
     "data": {
      "text/plain": [
       "'noh'"
      ]
     },
     "execution_count": 29,
     "metadata": {},
     "output_type": "execute_result"
    }
   ],
   "source": [
    "some_string[-1:-4:-1]"
   ]
  },
  {
   "cell_type": "code",
   "execution_count": 30,
   "metadata": {
    "collapsed": false
   },
   "outputs": [
    {
     "data": {
      "text/plain": [
       "'yth'"
      ]
     },
     "execution_count": 30,
     "metadata": {},
     "output_type": "execute_result"
    }
   ],
   "source": [
    "some_string[1:4]\n",
    "# 1~4번까지면 가장 마지막 문자열은 출력되지 않는다. for문이 돌아가고 있다고 보면 됨 "
   ]
  },
  {
   "cell_type": "code",
   "execution_count": 34,
   "metadata": {
    "collapsed": false
   },
   "outputs": [
    {
     "data": {
      "text/plain": [
       "'nt'"
      ]
     },
     "execution_count": 34,
     "metadata": {},
     "output_type": "execute_result"
    }
   ],
   "source": [
    "some_string[5::-3]"
   ]
  },
  {
   "cell_type": "code",
   "execution_count": 83,
   "metadata": {
    "collapsed": false
   },
   "outputs": [
    {
     "data": {
      "text/plain": [
       "'thon'"
      ]
     },
     "execution_count": 83,
     "metadata": {},
     "output_type": "execute_result"
    }
   ],
   "source": [
    "some_string[-4::1]\n",
    "# 질문 가장 마지막 글자까지 지정을 할 수 있는 방법은?"
   ]
  },
  {
   "cell_type": "code",
   "execution_count": 40,
   "metadata": {
    "collapsed": false
   },
   "outputs": [
    {
     "data": {
      "text/plain": [
       "2"
      ]
     },
     "execution_count": 40,
     "metadata": {},
     "output_type": "execute_result"
    }
   ],
   "source": [
    "string2 = \"python is easy programming language\"\n",
    "string2.count('p')"
   ]
  },
  {
   "cell_type": "code",
   "execution_count": 42,
   "metadata": {
    "collapsed": false
   },
   "outputs": [
    {
     "data": {
      "text/plain": [
       "0"
      ]
     },
     "execution_count": 42,
     "metadata": {},
     "output_type": "execute_result"
    }
   ],
   "source": [
    "string2.find('p')\n",
    "#한 번 찾으면 끝(두 번째 p는 찾지 않는 것을 볼 수 있다)"
   ]
  },
  {
   "cell_type": "code",
   "execution_count": 44,
   "metadata": {
    "collapsed": false
   },
   "outputs": [
    {
     "name": "stdout",
     "output_type": "stream",
     "text": [
      "p,y,t,h,o,n\n"
     ]
    }
   ],
   "source": [
    "var_comma=\",\"\n",
    "python_with_comma = var_comma.join('python')\n",
    "print(python_with_comma)"
   ]
  },
  {
   "cell_type": "code",
   "execution_count": 46,
   "metadata": {
    "collapsed": false
   },
   "outputs": [
    {
     "data": {
      "text/plain": [
       "['p', 'y', 't', 'h', 'o', 'n']"
      ]
     },
     "execution_count": 46,
     "metadata": {},
     "output_type": "execute_result"
    }
   ],
   "source": [
    "python_with_comma.split(var_comma)"
   ]
  },
  {
   "cell_type": "code",
   "execution_count": 47,
   "metadata": {
    "collapsed": false
   },
   "outputs": [
    {
     "data": {
      "text/plain": [
       "['python', 'is', 'easy']"
      ]
     },
     "execution_count": 47,
     "metadata": {},
     "output_type": "execute_result"
    }
   ],
   "source": [
    "python_is_easy = \"python is easy\"\n",
    "python_is_easy.split()\n",
    "#공백을 기준으로 잘라낼 수 있다"
   ]
  },
  {
   "cell_type": "code",
   "execution_count": 50,
   "metadata": {
    "collapsed": false
   },
   "outputs": [
    {
     "data": {
      "text/plain": [
       "'python is difficult'"
      ]
     },
     "execution_count": 50,
     "metadata": {},
     "output_type": "execute_result"
    }
   ],
   "source": [
    "python_is_easy.replace(\"python\",\"Java\")\n",
    "python_is_easy.replace(\"easy\",\"difficult\")\n",
    "# 절차지향적인 언어의 경우 한줄한줄 실행하게되나, 파이선의 경우 변수에 저장하지 않으면 날아가고 새로 변수를 불러서 바꾼다.\n",
    "# 그러므로 파이선은 자바로 바뀌지 않고\n",
    "# 스트링이라서 독립변수라서 한줄이 씹힘"
   ]
  },
  {
   "cell_type": "code",
   "execution_count": 51,
   "metadata": {
    "collapsed": true
   },
   "outputs": [],
   "source": [
    "# dictionary (기준값:value)"
   ]
  },
  {
   "cell_type": "code",
   "execution_count": 55,
   "metadata": {
    "collapsed": false
   },
   "outputs": [
    {
     "name": "stdout",
     "output_type": "stream",
     "text": [
      "['py', 'C', 'gol']\n"
     ]
    }
   ],
   "source": [
    "str3 = []\n",
    "str3.append(\"py\")\n",
    "str3.append(\"C\")\n",
    "str3.append(\"gol\")\n",
    "print(str3)\n",
    "# 리스트는 메모리 번지를 바꾸어놨기 때문에 실행됨"
   ]
  },
  {
   "cell_type": "code",
   "execution_count": 63,
   "metadata": {
    "collapsed": false
   },
   "outputs": [
    {
     "name": "stdout",
     "output_type": "stream",
     "text": [
      "['py', 'fastcamp', 'C', 'gol']\n"
     ]
    }
   ],
   "source": [
    "str3.insert(1, \"fastcamp\")\n",
    "print(str3)"
   ]
  },
  {
   "cell_type": "code",
   "execution_count": 64,
   "metadata": {
    "collapsed": true
   },
   "outputs": [],
   "source": [
    "str3.insert(5, \"fastcamp\")"
   ]
  },
  {
   "cell_type": "code",
   "execution_count": 65,
   "metadata": {
    "collapsed": false
   },
   "outputs": [
    {
     "name": "stdout",
     "output_type": "stream",
     "text": [
      "['py', 'fastcamp', 'C', 'gol', 'fastcamp']\n"
     ]
    }
   ],
   "source": [
    "print(str3)"
   ]
  },
  {
   "cell_type": "code",
   "execution_count": 66,
   "metadata": {
    "collapsed": false
   },
   "outputs": [
    {
     "name": "stdout",
     "output_type": "stream",
     "text": [
      "['py', 'C', 'gol', 'fastcamp']\n"
     ]
    }
   ],
   "source": [
    "str3.remove(\"fastcamp\")\n",
    "print(str3)\n",
    "# 처음 것만 지우게 됨"
   ]
  },
  {
   "cell_type": "code",
   "execution_count": 67,
   "metadata": {
    "collapsed": false
   },
   "outputs": [
    {
     "name": "stdout",
     "output_type": "stream",
     "text": [
      "['py', 'C', 'fastcamp']\n",
      "gol\n"
     ]
    }
   ],
   "source": [
    "golang = str3.pop(2)\n",
    "print(str3)\n",
    "print(golang)"
   ]
  },
  {
   "cell_type": "code",
   "execution_count": 68,
   "metadata": {
    "collapsed": false
   },
   "outputs": [
    {
     "name": "stdout",
     "output_type": "stream",
     "text": [
      "[2, 5, 4, 8, 1]\n"
     ]
    }
   ],
   "source": [
    "numbers = [2, 5, 4, 8, 1]\n",
    "print(numbers)"
   ]
  },
  {
   "cell_type": "code",
   "execution_count": 74,
   "metadata": {
    "collapsed": false
   },
   "outputs": [
    {
     "name": "stdout",
     "output_type": "stream",
     "text": [
      "[1, 2, 4, 5, 8]\n"
     ]
    }
   ],
   "source": [
    "numbers.sort()\n",
    "print(numbers)"
   ]
  },
  {
   "cell_type": "code",
   "execution_count": 75,
   "metadata": {
    "collapsed": false
   },
   "outputs": [
    {
     "name": "stdout",
     "output_type": "stream",
     "text": [
      "[9, 4, 3, 5, 2]\n"
     ]
    }
   ],
   "source": [
    "numbers2 = [2,5,3,4,9]\n",
    "numbers2.reverse()\n",
    "print(numbers2)"
   ]
  },
  {
   "cell_type": "code",
   "execution_count": 76,
   "metadata": {
    "collapsed": false
   },
   "outputs": [
    {
     "data": {
      "text/plain": [
       "0"
      ]
     },
     "execution_count": 76,
     "metadata": {},
     "output_type": "execute_result"
    }
   ],
   "source": [
    "numbers2.index(9)"
   ]
  },
  {
   "cell_type": "code",
   "execution_count": 77,
   "metadata": {
    "collapsed": false
   },
   "outputs": [
    {
     "name": "stdout",
     "output_type": "stream",
     "text": [
      "[9, 4, 3, 5, 2, 3, 4]\n"
     ]
    }
   ],
   "source": [
    "numbers2 = numbers2 + [3, 4]\n",
    "print(numbers2)"
   ]
  },
  {
   "cell_type": "code",
   "execution_count": 78,
   "metadata": {
    "collapsed": false
   },
   "outputs": [
    {
     "name": "stdout",
     "output_type": "stream",
     "text": [
      "[9, 4, 3, 5, 2, 3, 4, 5, 9]\n"
     ]
    }
   ],
   "source": [
    "numbers2.extend([5, 9])\n",
    "print(numbers2)"
   ]
  },
  {
   "cell_type": "code",
   "execution_count": 79,
   "metadata": {
    "collapsed": false
   },
   "outputs": [
    {
     "name": "stdout",
     "output_type": "stream",
     "text": [
      "[8, 7, 5, 3, 2, 1]\n"
     ]
    }
   ],
   "source": [
    "numbers3 = [3, 5, 2, 7, 8, 1]\n",
    "numbers3.sort()\n",
    "numbers3.reverse()\n",
    "print(numbers3)"
   ]
  },
  {
   "cell_type": "code",
   "execution_count": null,
   "metadata": {
    "collapsed": true
   },
   "outputs": [],
   "source": []
  }
 ],
 "metadata": {
  "kernelspec": {
   "display_name": "Python 3",
   "language": "python",
   "name": "python3"
  },
  "language_info": {
   "codemirror_mode": {
    "name": "ipython",
    "version": 3
   },
   "file_extension": ".py",
   "mimetype": "text/x-python",
   "name": "python",
   "nbconvert_exporter": "python",
   "pygments_lexer": "ipython3",
   "version": "3.6.0"
  }
 },
 "nbformat": 4,
 "nbformat_minor": 2
}
