{
 "cells": [
  {
   "cell_type": "code",
   "execution_count": 1,
   "metadata": {
    "collapsed": false
   },
   "outputs": [
    {
     "data": {
      "text/plain": [
       "[12, 12, 12, 12, 12]"
      ]
     },
     "execution_count": 1,
     "metadata": {},
     "output_type": "execute_result"
    }
   ],
   "source": [
    "a = [1, 1, 1, 1, 1,]\n",
    "b = [2, 2, 2, 2, 2,]\n",
    "c = [4, 4, 4, 4, 4,]\n",
    "d = [5, 5, 5, 5, 5,]\n",
    "# 4개의 list를 한 lambda 식으로 받을 수 있다. 다만 각 리스트의 한 인자씩 받아온다.\n",
    "list(map(lambda s, t, r, q: s + t + r + q, a, b, c, d))"
   ]
  },
  {
   "cell_type": "code",
   "execution_count": 2,
   "metadata": {
    "collapsed": true
   },
   "outputs": [],
   "source": [
    "# reduce를 사용, \n",
    "from functools import reduce"
   ]
  },
  {
   "cell_type": "code",
   "execution_count": 3,
   "metadata": {
    "collapsed": false
   },
   "outputs": [
    {
     "data": {
      "text/plain": [
       "'edcba'"
      ]
     },
     "execution_count": 3,
     "metadata": {},
     "output_type": "execute_result"
    }
   ],
   "source": [
    "reduce(lambda a, b : b + a, \"abcde\")"
   ]
  },
  {
   "cell_type": "code",
   "execution_count": 4,
   "metadata": {
    "collapsed": true
   },
   "outputs": [],
   "source": [
    "#pickel\n",
    "import pickle"
   ]
  },
  {
   "cell_type": "code",
   "execution_count": 6,
   "metadata": {
    "collapsed": false
   },
   "outputs": [],
   "source": [
    "#주피터에서만 사용되는 기능\n",
    "pickle.dump?"
   ]
  },
  {
   "cell_type": "code",
   "execution_count": null,
   "metadata": {
    "collapsed": true
   },
   "outputs": [],
   "source": [
    "with open(\"class_A.bin\",\"rb\") as f:\n",
    "    data = pickle.load(f)"
   ]
  },
  {
   "cell_type": "code",
   "execution_count": 10,
   "metadata": {
    "collapsed": true
   },
   "outputs": [],
   "source": [
    "f = open(\"abc.txt\",\"r\")"
   ]
  },
  {
   "cell_type": "code",
   "execution_count": 11,
   "metadata": {
    "collapsed": false
   },
   "outputs": [
    {
     "data": {
      "text/plain": [
       "['what is your name?\\n', 'get me a cookie\\n', 'lead a way!']"
      ]
     },
     "execution_count": 11,
     "metadata": {},
     "output_type": "execute_result"
    }
   ],
   "source": [
    "text_list = []\n",
    "while True:\n",
    "    data = f.readline()\n",
    "    if data:\n",
    "        text_list.append(data)\n",
    "    else:\n",
    "        break\n",
    "text_list            "
   ]
  },
  {
   "cell_type": "code",
   "execution_count": 13,
   "metadata": {
    "collapsed": false
   },
   "outputs": [
    {
     "data": {
      "text/plain": [
       "[{'greg': 95},\n",
       " {'john': 25},\n",
       " {'yang': 50},\n",
       " {'timothy': 15},\n",
       " {'melisa': 100},\n",
       " {'thor': 10},\n",
       " {'elen': 25},\n",
       " {'mark': 80},\n",
       " {'steve': 95},\n",
       " {'anna': 20}]"
      ]
     },
     "execution_count": 13,
     "metadata": {},
     "output_type": "execute_result"
    }
   ],
   "source": [
    "fp2 = open(\"class_A.bin\",\"rb\")\n",
    "pickle_list = []\n",
    "while True:\n",
    "    try:\n",
    "        data = pickle.load(fp2)\n",
    "        pickle_list.append(data)\n",
    "    except EOFError:\n",
    "        break\n",
    "pickle_list"
   ]
  },
  {
   "cell_type": "code",
   "execution_count": 14,
   "metadata": {
    "collapsed": true
   },
   "outputs": [],
   "source": [
    "fp = open(\"abc.bin\",\"wb\")"
   ]
  },
  {
   "cell_type": "code",
   "execution_count": 15,
   "metadata": {
    "collapsed": true
   },
   "outputs": [],
   "source": [
    "data = [\n",
    "    {'greg' :95},\n",
    "    {'tom':85},\n",
    "    {'sata':56},\n",
    "]"
   ]
  },
  {
   "cell_type": "code",
   "execution_count": 16,
   "metadata": {
    "collapsed": true
   },
   "outputs": [],
   "source": [
    "for d in data:\n",
    "    pickle.dump(d, fp)"
   ]
  },
  {
   "cell_type": "code",
   "execution_count": 18,
   "metadata": {
    "collapsed": false
   },
   "outputs": [
    {
     "data": {
      "text/plain": [
       "[{'greg': 95}, {'tom': 85}, {'sata': 56}]"
      ]
     },
     "execution_count": 18,
     "metadata": {},
     "output_type": "execute_result"
    }
   ],
   "source": [
    "fp.close()\n",
    "fp2 = open(\"abc.bin\",\"rb\")\n",
    "result = []\n",
    "for i in range(3) :\n",
    "    result.append(pickle.load(fp2))\n",
    "result"
   ]
  },
  {
   "cell_type": "code",
   "execution_count": 22,
   "metadata": {
    "collapsed": false
   },
   "outputs": [],
   "source": [
    "# data analysis 절차 지향적인 방법\n",
    "# 평균, 분산 함수를 작성\n",
    "from functools import reduce\n",
    "import math #sqrt\n",
    "import pickle\n",
    "\n",
    "\n",
    "def average(scores) :#scores = [점수1, 점수2...]\n",
    "    return reduce(lambda a, b: a + b, scores) / len(scores)\n",
    "    \n",
    "def variance(scores, arvg): #scores = [점수1....] avrg : 50,  sum((각 점수 - 평균)**2) / 데이터의 개수)\n",
    "    return reduce(lambda a, b: (a + b), map(lambda s:(s-avrg)**2, scores))/len(scores)\n",
    "\n",
    "def evaluateClass(avrg, std_dev):\n",
    "    if avrg < 50 and std_dev > 20:\n",
    "        print (\"성적저조 편차 큼\")\n",
    "    elif avrg < 50 and std_dev < 20:\n",
    "        print (\"성적저조하고 편차 없음\")\n",
    "    elif avrg > 50 and std_dev > 20:\n",
    "        print (\"성적 우수 편차 큼\")\n",
    "    else :\n",
    "        print (\"성적우수하며 편차 적음\")"
   ]
  },
  {
   "cell_type": "code",
   "execution_count": 49,
   "metadata": {
    "collapsed": false
   },
   "outputs": [
    {
     "name": "stdout",
     "output_type": "stream",
     "text": [
      "[{'greg': 95}, {'john': 25}, {'yang': 50}, {'timothy': 15}, {'melisa': 100}, {'thor': 10}, {'elen': 25}, {'mark': 80}, {'steve': 95}, {'anna': 20}]\n",
      "[95, 25, 50, 15, 100, 10, 25, 80, 95, 20]\n",
      "[95, 25, 50, 15, 100, 10, 25, 80, 95, 20]\n"
     ]
    }
   ],
   "source": [
    "f = open(\"class_A.bin\",\"rb\")\n",
    "\n",
    "items = []\n",
    "while True:\n",
    "    try:\n",
    "        items.append(pickle.load(f))\n",
    "    except EOFError:\n",
    "        break\n",
    "f.close()\n",
    "print(items)\n",
    "\n",
    "scores = []\n",
    "for i in items:\n",
    "    for item in i.values():\n",
    "        scores.append(item)\n",
    "sc2 = []\n",
    "for i in items:\n",
    "    sc2 = sc2 + list(map(lambda x: x, i.values()))\n",
    "print(scores)\n",
    "print(sc2)"
   ]
  },
  {
   "cell_type": "code",
   "execution_count": 50,
   "metadata": {
    "collapsed": false
   },
   "outputs": [
    {
     "data": {
      "text/plain": [
       "dict_values([1, 2, 3])"
      ]
     },
     "execution_count": 50,
     "metadata": {},
     "output_type": "execute_result"
    }
   ],
   "source": [
    "# dict 함수에 대한 values하여 나오는 객체는 리스트, 튜플이 아닌 이터러블한 어떠한 객체임\n",
    "# 2점대에서는 리스트를 반환하였으나 메모리를 아끼기 위해 3점대에서 바뀜\n",
    "dic = dict(one = 1, two = 2, th = 3)\n",
    "dic.values()"
   ]
  },
  {
   "cell_type": "code",
   "execution_count": 51,
   "metadata": {
    "collapsed": true
   },
   "outputs": [],
   "source": [
    "avrg = average(scores)"
   ]
  },
  {
   "cell_type": "code",
   "execution_count": 52,
   "metadata": {
    "collapsed": false
   },
   "outputs": [
    {
     "data": {
      "text/plain": [
       "1240.2"
      ]
     },
     "execution_count": 52,
     "metadata": {},
     "output_type": "execute_result"
    }
   ],
   "source": [
    "vari = round(variance(scores,avrg),1)\n",
    "vari"
   ]
  },
  {
   "cell_type": "code",
   "execution_count": 42,
   "metadata": {
    "collapsed": false
   },
   "outputs": [
    {
     "data": {
      "text/plain": [
       "35.2"
      ]
     },
     "execution_count": 42,
     "metadata": {},
     "output_type": "execute_result"
    }
   ],
   "source": [
    "std_dev = round(math.sqrt(vari),1)\n",
    "std_dev\n"
   ]
  },
  {
   "cell_type": "code",
   "execution_count": 48,
   "metadata": {
    "collapsed": false
   },
   "outputs": [
    {
     "name": "stdout",
     "output_type": "stream",
     "text": [
      "12wow stirngaye!\n",
      "내 이름 greg 내 나이35 근데 나이35는 뻥카\n",
      "35   greg\n"
     ]
    }
   ],
   "source": [
    "# string %d, %s 등등의 컨벤션은 3버전에서는 사용가능하나 추천하지 않는다.\n",
    "a = 12\n",
    "b = \"stirng\"\n",
    "print (\"{}wow {}aye!\".format(a, b))\n",
    "age = 35\n",
    "name = \"greg\"\n",
    "print(\"내 이름 {n} 내 나이{a} 근데 나이{a}는 뻥카\".format(n=name, a=age))\n",
    "# 프린트 함수 후 \n",
    "print(age, end = '   ')\n",
    "print(name)"
   ]
  },
  {
   "cell_type": "code",
   "execution_count": 53,
   "metadata": {
    "collapsed": false
   },
   "outputs": [
    {
     "name": "stdout",
     "output_type": "stream",
     "text": [
      "평균: 51.5, 분산: 1240.2, 표준편차 35.2\n",
      "성적 우수 편차 큼\n"
     ]
    }
   ],
   "source": [
    "print(\"평균: {0}, 분산: {1}, 표준편차 {2}\".format(avrg, vari, std_dev))\n",
    "evaluateClass(avrg,std_dev)"
   ]
  },
  {
   "cell_type": "code",
   "execution_count": 64,
   "metadata": {
    "collapsed": true
   },
   "outputs": [],
   "source": [
    "# object 를 사용하는 가장 큰 이유는 modeling이다.\n",
    "# 사람이라는 클라스를 만들어 본다.\n",
    "# 각각 개체를 구분하기 위한 특성들을 뽑아본다. 이 프로그램에서 필요한 특성은 이름, 나이, 돈의 속성을 가진 무엇인가로 모델링을 하였음.\n",
    "# 세상에 실존하는 사람의 특성은 다양한 특징이 있지만 이 프로그램에서 필요한 특성은 위와 같다. 필요한 부분을 가져와서 단순화 시킨 것이 모델링\n",
    "# member + method 합쳐서 attribute(속성) 이라고 부른다.\n",
    "\n",
    "class Person:\n",
    "    # member (특성값, 정보값)\n",
    "    def __init__(self, name, age, money):# init 앞뒤로는 언더바 2개\n",
    "        self.name = name\n",
    "        self.age = age\n",
    "        self.money = money\n",
    "        self.hp = 100 # 기본으로 100을 주고, 인터페이스에서는 hp가 없다.\n",
    "    \n",
    "    # method (기능, 행동)\n",
    "    def givemoney(self, other, money):\n",
    "        self.money -= money\n",
    "        other.money += money\n",
    "    \n",
    "    def under_stress(self, hp):\n",
    "        self.hp -+ hp\n",
    "        \n",
    "    def showInfo(self):\n",
    "        print(\"Name: {} \\n age: {}\".format(self.money, self.age))"
   ]
  },
  {
   "cell_type": "code",
   "execution_count": 65,
   "metadata": {
    "collapsed": false
   },
   "outputs": [],
   "source": [
    "#person_1은 Person의 인스턴스이다. person_1은 객체이기도 하다.\n",
    "person_1 = Person(\"greg\", 18, 5000)\n",
    "person_2 = Person(\"matt\", 25, 1000)"
   ]
  },
  {
   "cell_type": "code",
   "execution_count": 66,
   "metadata": {
    "collapsed": true
   },
   "outputs": [],
   "source": [
    "# interaction between instances = message passing\n",
    "# 내장 메소드를 사용해야만 데이터 주고받기가 가능함 (메시지 패싱)\n",
    "# 파이선의 경우 정보은닉이 되지 않으므로 member에 직접 접근이 가능하지만 이렇게 프로그램을 작성할 경우 OOP의 개념에 반하는 것이다. "
   ]
  },
  {
   "cell_type": "code",
   "execution_count": 67,
   "metadata": {
    "collapsed": true
   },
   "outputs": [],
   "source": [
    "person_1.givemoney(person_2, 2000)"
   ]
  },
  {
   "cell_type": "code",
   "execution_count": 69,
   "metadata": {
    "collapsed": false
   },
   "outputs": [
    {
     "name": "stdout",
     "output_type": "stream",
     "text": [
      "Name: 3000 \n",
      " age: 18\n",
      "Name: 3000 \n",
      " age: 25\n"
     ]
    }
   ],
   "source": [
    "person_1.showInfo()\n",
    "person_2.showInfo()"
   ]
  },
  {
   "cell_type": "code",
   "execution_count": 70,
   "metadata": {
    "collapsed": false
   },
   "outputs": [
    {
     "name": "stdout",
     "output_type": "stream",
     "text": [
      "Name: 9000 \n",
      " age: 18\n",
      "Name: 10000 \n",
      " age: 25\n"
     ]
    }
   ],
   "source": [
    "# 정보은닉이 되지 않는 예\n",
    "person_1.money = 9000\n",
    "person_2.money = 10000\n",
    "person_1.showInfo()\n",
    "person_2.showInfo()\n",
    "# 내장 메소드를 통하지 않고 직접 멤버에 접근하여 값을 바꾸었음"
   ]
  },
  {
   "cell_type": "code",
   "execution_count": null,
   "metadata": {
    "collapsed": true
   },
   "outputs": [],
   "source": [
    "# 어떠한 정보를 은닉할 것인지는 설계 중에 결정한다."
   ]
  }
 ],
 "metadata": {
  "kernelspec": {
   "display_name": "Python 3",
   "language": "python",
   "name": "python3"
  },
  "language_info": {
   "codemirror_mode": {
    "name": "ipython",
    "version": 3
   },
   "file_extension": ".py",
   "mimetype": "text/x-python",
   "name": "python",
   "nbconvert_exporter": "python",
   "pygments_lexer": "ipython3",
   "version": "3.6.0"
  }
 },
 "nbformat": 4,
 "nbformat_minor": 2
}
