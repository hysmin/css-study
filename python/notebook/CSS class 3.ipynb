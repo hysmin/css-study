{
 "cells": [
  {
   "cell_type": "code",
   "execution_count": 2,
   "metadata": {
    "collapsed": false
   },
   "outputs": [
    {
     "name": "stdout",
     "output_type": "stream",
     "text": [
      "(1, 2, 3, 4, 'python', 'java', 'python', 'java', 'python', 'java', 'python', 'java', 'python', 'java')\n"
     ]
    }
   ],
   "source": [
    "# list, tuple, dict 선언시 (1, 2, 3, 4,) 와 같이 마지막 값에도 ,(쉽표)를 찍어 주는 것이 좋다.\n",
    "# 이는 git 을 업로드 할 때 변화된 부분을 감지하기 좋고, 보기 좋기 때문이다.\n",
    "\n",
    "tuple1 = (1,2,3,4,)\n",
    "tuple2 = ('python','java',)\n",
    "print(tuple1+tuple2*5)"
   ]
  },
  {
   "cell_type": "code",
   "execution_count": 3,
   "metadata": {
    "collapsed": false
   },
   "outputs": [
    {
     "name": "stdout",
     "output_type": "stream",
     "text": [
      "python 1\n"
     ]
    }
   ],
   "source": [
    "sw_x = 1\n",
    "sw_y = 'python'\n",
    "\n",
    "# 동적타이핑으로 서로 바꿀 수 있다.\n",
    "temp = sw_x\n",
    "sw_x = sw_y\n",
    "sw_y = temp\n",
    "print(sw_x, sw_y)"
   ]
  },
  {
   "cell_type": "code",
   "execution_count": 4,
   "metadata": {
    "collapsed": false
   },
   "outputs": [
    {
     "name": "stdout",
     "output_type": "stream",
     "text": [
      "python 1\n"
     ]
    }
   ],
   "source": [
    "sw_x = 1\n",
    "sw_y = 'python'\n",
    "\n",
    "(sw_y, sw_x) = (sw_x, sw_y)\n",
    "print(sw_x, sw_y)\n"
   ]
  },
  {
   "cell_type": "code",
   "execution_count": 9,
   "metadata": {
    "collapsed": false
   },
   "outputs": [
    {
     "name": "stdout",
     "output_type": "stream",
     "text": [
      "3 1\n"
     ]
    }
   ],
   "source": [
    "def quot_and_rem(a,b):\n",
    "    quot = a // b\n",
    "    rem = a % b\n",
    "    return (quot, rem)\n",
    "\n",
    "(quot, rem) = quot_and_rem(10, 3)\n",
    "print(quot, rem)"
   ]
  },
  {
   "cell_type": "code",
   "execution_count": 10,
   "metadata": {
    "collapsed": true
   },
   "outputs": [],
   "source": [
    "# java script의 json - 웹에서의 데이터 교환 타입 이게 좀 많이 쓰인다."
   ]
  },
  {
   "cell_type": "code",
   "execution_count": 11,
   "metadata": {
    "collapsed": false
   },
   "outputs": [
    {
     "name": "stdout",
     "output_type": "stream",
     "text": [
      "{'name': 'snow'}\n"
     ]
    }
   ],
   "source": [
    "dict1 = {}\n",
    "dict1 = {'name': 'snow',}\n",
    "print(dict1)"
   ]
  },
  {
   "cell_type": "code",
   "execution_count": 13,
   "metadata": {
    "collapsed": false
   },
   "outputs": [
    {
     "name": "stdout",
     "output_type": "stream",
     "text": [
      "{'korean': 70, 'math': 80, 'science': [50, 80, 25, 100], 'english': 'pass'}\n"
     ]
    }
   ],
   "source": [
    "score = {\n",
    "    'korean': 70,\n",
    "    'math': 80,\n",
    "    'science': [50, 80, 25, 100],\n",
    "}\n",
    "\n",
    "score['english'] = \"pass\"\n",
    "print(score)\n",
    "\n",
    "# dict는 요소간의 순서가 의미 없다. key 값을 통해 접근을 하기 때문에 언어 자체에서 순서를 찾지 않는다.\n",
    "# 유일하지 않은 키 값이 허용은 되지만, 둘 중 메모리에 들어가있는 순서가 빠른 쪽에 접근을 하기 때문에 key 값은 유일하게 적어야 의미가 있다."
   ]
  },
  {
   "cell_type": "code",
   "execution_count": 14,
   "metadata": {
    "collapsed": false
   },
   "outputs": [
    {
     "name": "stdout",
     "output_type": "stream",
     "text": [
      "{'korean': 70, 'science': [50, 80, 25, 100], 'english': 'pass'}\n"
     ]
    }
   ],
   "source": [
    "del score['math']\n",
    "print(score)"
   ]
  },
  {
   "cell_type": "code",
   "execution_count": 17,
   "metadata": {
    "collapsed": false
   },
   "outputs": [
    {
     "name": "stdout",
     "output_type": "stream",
     "text": [
      "70\n",
      "dict_keys(['korean', 'science', 'english'])\n",
      "dict_values([70, [50, 80, 25, 100], 'pass'])\n",
      "dict_items([('korean', 70), ('science', [50, 80, 25, 100]), ('english', 'pass')])\n"
     ]
    }
   ],
   "source": [
    "print(score['korean'])\n",
    "print(score.keys())\n",
    "print(score.values())\n",
    "print(score.items())"
   ]
  },
  {
   "cell_type": "code",
   "execution_count": 18,
   "metadata": {
    "collapsed": false
   },
   "outputs": [
    {
     "name": "stdout",
     "output_type": "stream",
     "text": [
      "n <= 10\n"
     ]
    }
   ],
   "source": [
    "n = 9\n",
    "if n > 10 :\n",
    "    print('n > 10')\n",
    "else:\n",
    "    print('n <= 10')"
   ]
  },
  {
   "cell_type": "code",
   "execution_count": 21,
   "metadata": {
    "collapsed": false
   },
   "outputs": [
    {
     "name": "stdout",
     "output_type": "stream",
     "text": [
      "76\n"
     ]
    }
   ],
   "source": [
    "import random\n",
    "\n",
    "# python import 후에는 두 줄을 띄우고 시작하도록 한다 (규칙)\n",
    "answer = random.randint(1,100)\n",
    "print(answer)"
   ]
  },
  {
   "cell_type": "code",
   "execution_count": 33,
   "metadata": {
    "collapsed": false
   },
   "outputs": [
    {
     "name": "stdout",
     "output_type": "stream",
     "text": [
      "What is your name? aa\n",
      "Hi, aa. Guess the number: 9\n",
      "Your number is smaller than answer(3 times left)\n",
      "Hi, aa. Guess the number: 9\n",
      "Your number is smaller than answer(2 times left)\n",
      "Hi, aa. Guess the number: 9\n",
      "Your number is smaller than answer(1 times left)\n",
      "Hi, aa. Guess the number: 9\n",
      "Your number is smaller than answer(0 times left)\n",
      "You are dead\n"
     ]
    }
   ],
   "source": [
    "#terminal에서 python 파일 실행법 : python 파일명.py\n",
    "username = input(\"What is your name? \")\n",
    "chance = 4\n",
    "while True: \n",
    "    guess = eval(input(\"Hi, \" + username + \". Guess the number: \"))\n",
    "    if guess == answer:\n",
    "        print(\"Correct!\")\n",
    "        break\n",
    "    elif guess > answer:\n",
    "        chance -= 1\n",
    "        print(\"Your number is bigger than answer(%d times left)\" % (chance))\n",
    "    elif guess < answer:\n",
    "        chance -= 1\n",
    "        print(\"Your number is smaller than answer(%d times left)\" % (chance))\n",
    "    else:\n",
    "        print(\"Wrong!\")\n",
    "    \n",
    "    if chance == 0 :\n",
    "        print(\"You are dead\")\n",
    "        break"
   ]
  },
  {
   "cell_type": "code",
   "execution_count": null,
   "metadata": {
    "collapsed": true
   },
   "outputs": [],
   "source": [
    "#### Fizz Buzz\n",
    "num = int(input(\"Input a integer: \"))\n",
    "\n",
    "for i in range(1, num + 1):\n",
    "    if 0 == i % 15 : \n",
    "        print(\"fizzbuzz\")\n",
    "    elif 0 == i % 3:\n",
    "        print(\"fizz\")\n",
    "    elif 0 == i % 5:\n",
    "        print(\"buzz\")\n",
    "    else:\n",
    "        print(i)\n"
   ]
  },
  {
   "cell_type": "code",
   "execution_count": 35,
   "metadata": {
    "collapsed": false
   },
   "outputs": [],
   "source": [
    "import string\n",
    "from string import ascii_uppercase as up_case\n",
    "from string import ascii_lowercase as lo_case\n",
    "#string 라이브러리 중 일부만 가져온다.\n",
    "\n",
    "\n",
    "def caesar(s, k, decode = False):\n",
    "    if decode:\n",
    "        k = 26-k\n",
    "    return s.translate(\n",
    "        str.maketrans(\n",
    "            up_case + lo_case,\n",
    "            up_case[k:] + up_case[:k] +\n",
    "            lo_case[k:] + lo_case[:k],\n",
    "            )\n",
    "    )"
   ]
  },
  {
   "cell_type": "code",
   "execution_count": null,
   "metadata": {
    "collapsed": true
   },
   "outputs": [],
   "source": [
    "# me@ulgoon.com\n",
    "# github에 upload 후 주소 보내기"
   ]
  }
 ],
 "metadata": {
  "kernelspec": {
   "display_name": "Python 3",
   "language": "python",
   "name": "python3"
  },
  "language_info": {
   "codemirror_mode": {
    "name": "ipython",
    "version": 3
   },
   "file_extension": ".py",
   "mimetype": "text/x-python",
   "name": "python",
   "nbconvert_exporter": "python",
   "pygments_lexer": "ipython3",
   "version": "3.6.0"
  }
 },
 "nbformat": 4,
 "nbformat_minor": 2
}
